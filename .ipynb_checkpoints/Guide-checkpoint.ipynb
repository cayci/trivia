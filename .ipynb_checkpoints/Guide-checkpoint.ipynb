{
 "cells": [
  {
   "cell_type": "markdown",
   "metadata": {
    "editable": true,
    "ulab": {
     "buttons": {
      "ulab-button-4c5a610f": {
       "bashCommand": "bash setup-trivia.sh",
       "filesToOpen": [],
       "isPreviewButton": false,
       "runInBackground": false,
       "style": "primary",
       "text": "SET UP DATABASES",
       "toggleOffText": "HIDE SOLUTION",
       "toggleOnText": "SHOW SOLUTION"
      }
     }
    }
   },
   "source": [
    "# Trivia API Project Workspace\n",
    "\n",
    "Follow the instructions below to start up and complete the project.\n",
    "\n",
    ">***Reminder:***\n",
    "The frontend for this project is designed to work with a Flask-based backend so it will not load successfully if the backend is not working or not connected. We recommend that you **stand up the backend first** and test using Postman or curl before you integrate the frontend.\n",
    "\n",
    "\n",
    "## How to Run the Backend\n",
    "#### Step 1 - Start Postgres and set up the database and testing database\n",
    "\n",
    "Click the button to start Postgres and set up the `trivia` and `trivia_test` databases:\n",
    "\n",
    "\n",
    "<button id=\"ulab-button-4c5a610f\" class=\"ulab-btn--primary\"></button>"
   ]
  },
  {
   "cell_type": "markdown",
   "metadata": {
    "editable": true
   },
   "source": [
    "#### Explore the database\n",
    "\n",
    "You can enter the database with: \n",
    "\n",
    "```bash\n",
    "su - postgres bash -c \"psql trivia\"\n",
    "```\n",
    "Once you are inside the psql prompt, you can play around\n",
    "```bash\n",
    "\\dt\n",
    "SELECT * FROM categories;\n",
    "SELECT * FROM questions LIMIT 5;\n",
    "```\n",
    "\n",
    "To exist postgres, run:\n",
    "```bash\n",
    "\\q\n",
    "```"
   ]
  },
  {
   "cell_type": "markdown",
   "metadata": {
    "editable": true
   },
   "source": [
    "#### Step 2 - Install the required packages\n",
    "Navigate to the backend directory and run `pip install`\n",
    "\n",
    "```\n",
    "cd backend\n",
    "pip3 install -r requirements.txt\n",
    "```"
   ]
  },
  {
   "cell_type": "markdown",
   "metadata": {
    "editable": true
   },
   "source": [
    "#### Step 3. Start the backend server\n",
    "Start the (backend) Flask server by running:\n",
    "\n",
    "```bash\n",
    "export FLASK_APP=flaskr\n",
    "export FLASK_ENV=development\n",
    "flask run\n",
    "```\n",
    "\n",
    "The server will restart automatically when changes are detected."
   ]
  },
  {
   "cell_type": "markdown",
   "metadata": {
    "editable": true
   },
   "source": [
    "## How to Run the Frontend\n",
    "\n",
    ">To run the frontend you'll need to **open a new terminal**.  Go to ***File*** > ***New*** > ***Terminal***\n",
    "\n",
    "The dependencies are already installed in the workspace.  If you need to install them again, navigate to the `/frontend` directory and run:\n",
    "\n",
    "```bash\n",
    "npm install\n",
    "```\n",
    "\n",
    "To start the app in development mode, navigate to the `/frontend` directory and run the `start` script:\n",
    "\n",
    "```bash\n",
    "cd frontend\n",
    "npm start\n",
    "```\n",
    "\n",
    "Click the ***OPEN APP IN NEW TAB*** button to view the app in a new tab of your browser. The page will reload if you make edits."
   ]
  },
  {
   "cell_type": "markdown",
   "metadata": {
    "editable": true,
    "ulab": {
     "buttons": {
      "ulab-button-40bf692e": {
       "bashCommand": "bash setup-test.sh",
       "filesToOpen": [],
       "isPreviewButton": false,
       "runInBackground": false,
       "style": "primary",
       "text": "SET UP TESTING DATABASE",
       "toggleOffText": "HIDE SOLUTION",
       "toggleOnText": "SHOW SOLUTION"
      }
     }
    }
   },
   "source": [
    "# Completing the Project\n",
    "\n",
    "## Setting Up Testing\n",
    "\n",
    "This project is a great opportunity to practice Test-Driven Development (or TDD) .  As a reminder, the process for TDD is: \n",
    "\n",
    "1. Write a test for specific application behavior.\n",
    "1. Run the test and watch it fail.\n",
    "1. Write code to execute the required behavior.\n",
    "1. Test the code and rewrite as necessary to pass the test\n",
    "1. Refactor your code.\n",
    "1. Repeat - write your next test.\n",
    "\n",
    "For this project you need to write at least one test for the success and at least one error behavior of each endpoint using the unittest library.   You should write the tests in `backend/test_flaskr.py`.\n",
    "\n",
    "To deploy the tests, navigate to the `backend ` directory and run the test file: \n",
    "\n",
    "```bash\n",
    "cd backend\n",
    "python3 test_flaskr.py\n",
    "```"
   ]
  },
  {
   "cell_type": "markdown",
   "metadata": {
    "editable": true,
    "ulab": {
     "buttons": {
      "ulab-button-48f34c1a": {
       "bashCommand": "bash setup-test.sh",
       "filesToOpen": [],
       "isPreviewButton": false,
       "runInBackground": false,
       "style": "primary",
       "text": "SET UP TESTING DATABASE",
       "toggleOffText": "HIDE SOLUTION",
       "toggleOnText": "SHOW SOLUTION"
      }
     }
    }
   },
   "source": [
    "## @TODO Tasks\n",
    "\n",
    "Look for specific tasks in  the `/backend/flaskr/-__init__.py` file.\n",
    "\n",
    "For each endpoint, you are expected to define the endpoint and response data. You can use the frontend as a resource -- it is set up to expect certain endpoints and response data -- or you can specify different endpoints and update update the frontend. \n",
    "\n",
    "\n",
    "\n",
    "1. Use Flask-CORS to enable cross-domain requests and set response headers. \n",
    "2. Create an endpoint to handle `GET` requests for questions, including pagination (every 10 questions). This endpoint should return a list of questions, number of total questions, current category, categories. \n",
    "3. Create an endpoint to handle `GET` requests for all available categories. \n",
    "4. Create an endpoint to `DELETE` a question using a question `ID`. \n",
    "5. Create an endpoint to `POST` a new question, which will require the question and answer text, category, and difficulty score. \n",
    "6. Create a `POST` endpoint to get questions based on category. \n",
    "7. Create a `POST` endpoint to get questions based on a search term. It should return any questions for whom the search term is a substring of the question. \n",
    "8. Create a `POST` endpoint to get questions to play the quiz. This endpoint should take a category and previous question parameters and return a random questions within the given category, if provided, and that is not one of the previous questions. \n",
    "9. Create error handlers for all expected errors including 400, 404, 422, and 500."
   ]
  },
  {
   "cell_type": "markdown",
   "metadata": {
    "editable": true
   },
   "source": [
    "## Documenting your Endpoints\n",
    "\n",
    "Documenting your endpoints is critical so that other users understand how to use the API.  \n",
    "\n",
    "For this project, you will need to provide detailed documentation of your API endpoints in your project's README.md file.  The documentation for each API endpoint must include:\n",
    "\n",
    "* URL\n",
    "* request parameters\n",
    "* response body. \n",
    "\n",
    "Use the example below as a reference.\n",
    "\n",
    "### Documentation Example\n",
    "\n",
    "`GET '/api/v1.0/categories'`\n",
    "\n",
    "* Fetches a dictionary of categories in which the keys are the ids and the value is the corresponding string of the category\n",
    "* Request Arguments: None\n",
    "* Returns: An object with a single key, `categories`, that contains an object of `id: category_string` key: value pairs.\n",
    "\n",
    "```json\n",
    "{\n",
    "  \"1\": \"Science\",\n",
    "  \"2\": \"Art\",\n",
    "  \"3\": \"Geography\",\n",
    "  \"4\": \"History\",\n",
    "  \"5\": \"Entertainment\",\n",
    "  \"6\": \"Sports\"\n",
    "}\n",
    "```"
   ]
  }
 ],
 "metadata": {
  "kernelspec": {
   "display_name": "Python 3",
   "language": "python",
   "name": "python3"
  },
  "language_info": {
   "codemirror_mode": {
    "name": "ipython",
    "version": 3
   },
   "file_extension": ".py",
   "mimetype": "text/x-python",
   "name": "python",
   "nbconvert_exporter": "python",
   "pygments_lexer": "ipython3",
   "version": "3.6.3"
  },
  "ulab_nb_type": "guided"
 },
 "nbformat": 4,
 "nbformat_minor": 4
}
